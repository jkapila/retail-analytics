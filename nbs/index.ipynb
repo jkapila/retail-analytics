{
 "cells": [
  {
   "cell_type": "code",
   "execution_count": null,
   "metadata": {},
   "outputs": [],
   "source": [
    "#| hide\n",
    "from retail_analytics.core import *"
   ]
  },
  {
   "cell_type": "markdown",
   "metadata": {},
   "source": [
    "# Data Analytics Series"
   ]
  },
  {
   "cell_type": "markdown",
   "metadata": {},
   "source": [
    "## Welcome to Data-analytics Website\n",
    "\n",
    "Here we are doing a series on Data Analystics using a reatils data set taken from Kaggle.\n",
    "\n",
    "Here are the notebooks for two session done till now\n",
    "\n",
    "1) Session 1 : Customer Analysis using RFM models `<Link here>`\n",
    "2) Session 2 : Sales Analysis via Regression Models `<Link here>`\n",
    "\n"
   ]
  },
  {
   "cell_type": "markdown",
   "metadata": {},
   "source": [
    "**A brief about the data is as follows**"
   ]
  },
  {
   "cell_type": "markdown",
   "metadata": {},
   "source": [
    "## You can do and add you analysis using follwing steps\n",
    "\n",
    "_Pre-requisite: You need to have a github account_\n",
    "\n",
    "***Steps:***  \n",
    "1. Use Cmd Shell to create a new python environment using conda or venv, and install relevnat packages for you analysis.  \n",
    "2. Install `nbdev`. Make sure you use `pip install --force-reinstall nbdev` to install this.  \n",
    "3. Clone this repository via `git clone https://github.com/jkapila/retail-analytics.git`  \n",
    "4. Get in folder using `cd retail-analytics\\nbs`.   \n",
    "5. Create a new branch with your name, like `yourname-analysis`.  \n",
    "6. Open jupyter lab / notebook in folder and add notebook with a sequence identifier as `XX_Name_of_Notebook.ipynb`.  \n",
    "7. Keep working in the notebook wiht all you analysis.  \n",
    "8. After the work is finish run `nbdev_prepare`  \n",
    "9. Git add, commit and push.  \n",
    "10. Create a PR to add you analysis.  "
   ]
  },
  {
   "cell_type": "markdown",
   "metadata": {},
   "source": [
    "## Analysis and Queries"
   ]
  },
  {
   "cell_type": "markdown",
   "metadata": {},
   "source": [
    "> *To use the analysis you can go through the notebook in cronological order if number `XX`*"
   ]
  },
  {
   "cell_type": "markdown",
   "metadata": {},
   "source": [
    "For any doubts please connect or refer documnetation on `nbdev`."
   ]
  },
  {
   "cell_type": "code",
   "execution_count": null,
   "metadata": {},
   "outputs": [],
   "source": []
  }
 ],
 "metadata": {
  "kernelspec": {
   "display_name": "Python 3 (ipykernel)",
   "language": "python",
   "name": "python3"
  },
  "language_info": {
   "codemirror_mode": {
    "name": "ipython",
    "version": 3
   },
   "file_extension": ".py",
   "mimetype": "text/x-python",
   "name": "python",
   "nbconvert_exporter": "python",
   "pygments_lexer": "ipython3",
   "version": "3.8.10"
  }
 },
 "nbformat": 4,
 "nbformat_minor": 4
}
